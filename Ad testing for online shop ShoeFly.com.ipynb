{
 "cells": [
  {
   "cell_type": "markdown",
   "metadata": {},
   "source": [
    "# ShoeFly Ad campaign data analysis project "
   ]
  },
  {
   "cell_type": "markdown",
   "metadata": {},
   "source": [
    "### Overview\n",
    "\n",
    "ShoeFly is a global clothing store who recently lunched an online campaign to promote their new promotional products. The scope of this project is to clean and calculate new columns based on the data provided by the marketing team, which consists of a CSV file with the following information: <br>\n",
    "\n",
    "1. user_id = hash unique number representing user \n",
    "2. utm_source = social media platform\n",
    "3. day = day name and number when the ad was clicked\n",
    "4. ad_click_timestamp = time when user clicked the ad, format hh:mm\n",
    "5. experimental_group = target group"
   ]
  },
  {
   "cell_type": "code",
   "execution_count": 2,
   "metadata": {},
   "outputs": [],
   "source": [
    "import pandas as pd\n",
    "import os\n",
    "pd.set_option('display.max_rows', 500)\n",
    "pd.set_option('display.max_columns', 500)\n",
    "pd.set_option('display.width', 1000)"
   ]
  },
  {
   "cell_type": "markdown",
   "metadata": {},
   "source": [
    "### Part 1: Data wrangling"
   ]
  },
  {
   "cell_type": "code",
   "execution_count": 3,
   "metadata": {},
   "outputs": [],
   "source": [
    "script_path = os.path.curdir #directory where the script is run.\n",
    "rel_path = \"ad_clicks.txt\"\n",
    "filepath = os.path.join(script_path, rel_path) #create file path"
   ]
  },
  {
   "cell_type": "code",
   "execution_count": 4,
   "metadata": {},
   "outputs": [],
   "source": [
    "ad_clicks = pd.read_csv(filepath) # store df in a file"
   ]
  },
  {
   "cell_type": "markdown",
   "metadata": {},
   "source": [
    "**1. Inspect the first 10 lines of the dataset**"
   ]
  },
  {
   "cell_type": "code",
   "execution_count": 6,
   "metadata": {},
   "outputs": [
    {
     "name": "stdout",
     "output_type": "stream",
     "text": [
      "                                user_id utm_source            day ad_click_timestamp experimental_group\n",
      "0  008b7c6c-7272-471e-b90e-930d548bd8d7     google   6 - Saturday               7:18                  A\n",
      "1  009abb94-5e14-4b6c-bb1c-4f4df7aa7557   facebook     7 - Sunday                NaN                  B\n",
      "2  00f5d532-ed58-4570-b6d2-768df5f41aed    twitter    2 - Tuesday                NaN                  A\n",
      "3  011adc64-0f44-4fd9-a0bb-f1506d2ad439     google    2 - Tuesday                NaN                  B\n",
      "4  012137e6-7ae7-4649-af68-205b4702169c   facebook     7 - Sunday                NaN                  B\n",
      "5  013b0072-7b72-40e7-b698-98b4d0c9967f   facebook     1 - Monday                NaN                  A\n",
      "6  0153d85b-7660-4c39-92eb-1e1acd023280     google   4 - Thursday                NaN                  A\n",
      "7  01555297-d6e6-49ae-aeba-1b196fdbb09f     google  3 - Wednesday                NaN                  A\n",
      "8  018cea61-19ea-4119-895b-1a4309ccb148      email     1 - Monday              18:33                  A\n",
      "9  01a210c3-fde0-4e6f-8efd-4f0e38730ae6      email    2 - Tuesday              15:21                  B \n",
      "\n",
      "['user_id', 'utm_source', 'day', 'ad_click_timestamp', 'experimental_group']\n"
     ]
    }
   ],
   "source": [
    "print(ad_clicks.head(10), '\\n')\n",
    "print(ad_clicks.columns.tolist()) # print all the headers of this file"
   ]
  },
  {
   "cell_type": "markdown",
   "metadata": {},
   "source": [
    "**2. Count the number of users targeted per social media platform**"
   ]
  },
  {
   "cell_type": "code",
   "execution_count": 8,
   "metadata": {},
   "outputs": [
    {
     "name": "stdout",
     "output_type": "stream",
     "text": [
      "  utm_source  count_user\n",
      "0      email         255\n",
      "1   facebook         504\n",
      "2     google         680\n",
      "3    twitter         215\n"
     ]
    }
   ],
   "source": [
    "views_per_utm_source = ad_clicks.groupby('utm_source').user_id.count().reset_index()\n",
    "views_per_utm_source.rename(columns={'user_id':'count_user'}, inplace=True)\n",
    "\n",
    "print(views_per_utm_source)"
   ]
  },
  {
   "cell_type": "markdown",
   "metadata": {},
   "source": [
    "**3. Add a new column 'day number' based on 'day' column and delete everything before day name in each cell**"
   ]
  },
  {
   "cell_type": "code",
   "execution_count": 45,
   "metadata": {},
   "outputs": [
    {
     "name": "stdout",
     "output_type": "stream",
     "text": [
      "                                user_id utm_source         day ad_click_timestamp experimental_group      day_nr  is_click\n",
      "0  008b7c6c-7272-471e-b90e-930d548bd8d7     google    Saturday               7:18                  A    Saturday     False\n",
      "1  009abb94-5e14-4b6c-bb1c-4f4df7aa7557   facebook      Sunday                NaN                  B      Sunday      True\n",
      "2  00f5d532-ed58-4570-b6d2-768df5f41aed    twitter     Tuesday                NaN                  A     Tuesday      True\n",
      "3  011adc64-0f44-4fd9-a0bb-f1506d2ad439     google     Tuesday                NaN                  B     Tuesday      True\n",
      "4  012137e6-7ae7-4649-af68-205b4702169c   facebook      Sunday                NaN                  B      Sunday      True\n",
      "5  013b0072-7b72-40e7-b698-98b4d0c9967f   facebook      Monday                NaN                  A      Monday      True\n",
      "6  0153d85b-7660-4c39-92eb-1e1acd023280     google    Thursday                NaN                  A    Thursday      True\n",
      "7  01555297-d6e6-49ae-aeba-1b196fdbb09f     google   Wednesday                NaN                  A   Wednesday      True\n",
      "8  018cea61-19ea-4119-895b-1a4309ccb148      email      Monday              18:33                  A      Monday     False\n",
      "9  01a210c3-fde0-4e6f-8efd-4f0e38730ae6      email     Tuesday              15:21                  B     Tuesday     False\n"
     ]
    }
   ],
   "source": [
    "ad_clicks['day_nr'] = ad_clicks['day'].str.split('-').str[0] #add new column\n",
    "ad_clicks['day'] = ad_clicks['day'].str.split(' - ').str[-1] #get the day name\n",
    "print(ad_clicks.head(10))"
   ]
  },
  {
   "cell_type": "markdown",
   "metadata": {},
   "source": [
    "**4. Create a new column called 'is_click' to check the nr. of users who clicked the ad. If 'ad_click_timestamp' is not null, people checked the add, if null, they did not.**"
   ]
  },
  {
   "cell_type": "code",
   "execution_count": 46,
   "metadata": {},
   "outputs": [],
   "source": [
    "ad_clicks['is_click'] = ad_clicks.ad_click_timestamp.isnull()"
   ]
  },
  {
   "cell_type": "markdown",
   "metadata": {},
   "source": [
    "**5. Marketing team wants to know the % of people who clicked on ads per platform.<br>\n",
    "First, group by 'utm_source' and 'is_click' and count the total nr. of users.**"
   ]
  },
  {
   "cell_type": "code",
   "execution_count": 51,
   "metadata": {},
   "outputs": [
    {
     "name": "stdout",
     "output_type": "stream",
     "text": [
      "  utm_source  is_click  count_users\n",
      "0      email     False           80\n",
      "1      email      True          175\n",
      "2   facebook     False          180\n",
      "3   facebook      True          324\n",
      "4     google     False          239\n",
      "5     google      True          441\n",
      "6    twitter     False           66\n",
      "7    twitter      True          149 \n",
      "\n"
     ]
    }
   ],
   "source": [
    "clicks_by_source = ad_clicks.groupby(['utm_source','is_click']).user_id.count().reset_index()\n",
    "clicks_by_source.rename(columns={'user_id':'count_users'}, inplace=True) # change user_id column name\n",
    "\n",
    "print(clicks_by_source, '\\n')"
   ]
  },
  {
   "cell_type": "markdown",
   "metadata": {},
   "source": [
    "**6. Create a new dataframe with rows as 'utm_source'and columns \"is_click\" to show the the number of users who clicked/not clicked. <br>**"
   ]
  },
  {
   "cell_type": "code",
   "execution_count": 52,
   "metadata": {},
   "outputs": [
    {
     "name": "stdout",
     "output_type": "stream",
     "text": [
      "is_click utm_source  False  True\n",
      "0             email     80   175\n",
      "1          facebook    180   324\n",
      "2            google    239   441\n",
      "3           twitter     66   149\n"
     ]
    }
   ],
   "source": [
    "clicks_pivot = clicks_by_source.pivot(columns='is_click', index='utm_source', values='count_users').reset_index()\n",
    "print(clicks_pivot)"
   ]
  },
  {
   "cell_type": "markdown",
   "metadata": {},
   "source": [
    "**7. Add a new column to \"clicks_pivot\" to show the percentage of users who clicked the ad, per platform.**"
   ]
  },
  {
   "cell_type": "code",
   "execution_count": 55,
   "metadata": {},
   "outputs": [
    {
     "name": "stdout",
     "output_type": "stream",
     "text": [
      "is_click utm_source  False  True  percent_clicked\n",
      "0             email     80   175            68.63\n",
      "1          facebook    180   324            64.29\n",
      "2            google    239   441            64.85\n",
      "3           twitter     66   149            69.30\n"
     ]
    }
   ],
   "source": [
    "clicks_pivot['percent_clicked'] = round((clicks_pivot[True]/(clicks_pivot[True]+clicks_pivot[False]) * 100), 2)\n",
    "print(clicks_pivot)"
   ]
  },
  {
   "cell_type": "markdown",
   "metadata": {},
   "source": [
    "### Part 2: Analyzing an A/B Test"
   ]
  },
  {
   "cell_type": "markdown",
   "metadata": {},
   "source": [
    "**8. Create a new table to show the nr. of users pertaining to group A and B.**"
   ]
  },
  {
   "cell_type": "code",
   "execution_count": 56,
   "metadata": {},
   "outputs": [
    {
     "name": "stdout",
     "output_type": "stream",
     "text": [
      "  experimental_group  is_click\n",
      "0                  A       827\n",
      "1                  B       827\n"
     ]
    }
   ],
   "source": [
    "check_experimental = ad_clicks.groupby('experimental_group').is_click.count().reset_index()\n",
    "print(check_experimental)"
   ]
  },
  {
   "cell_type": "markdown",
   "metadata": {},
   "source": [
    "**9. Create 2 tables: a_clicks and b_clicks by filtering column 'experimental_group' (target group)**"
   ]
  },
  {
   "cell_type": "code",
   "execution_count": 19,
   "metadata": {},
   "outputs": [
    {
     "name": "stdout",
     "output_type": "stream",
     "text": [
      "   index                               user_id utm_source         day ad_click_timestamp experimental_group day_nr  is_click\n",
      "0      0  008b7c6c-7272-471e-b90e-930d548bd8d7     google    Saturday               7:18                  A     6      False\n",
      "1      2  00f5d532-ed58-4570-b6d2-768df5f41aed    twitter     Tuesday                NaN                  A     2       True\n",
      "2      5  013b0072-7b72-40e7-b698-98b4d0c9967f   facebook      Monday                NaN                  A     1       True\n",
      "3      6  0153d85b-7660-4c39-92eb-1e1acd023280     google    Thursday                NaN                  A     4       True\n",
      "4      7  01555297-d6e6-49ae-aeba-1b196fdbb09f     google   Wednesday                NaN                  A     3       True\n",
      "5      8  018cea61-19ea-4119-895b-1a4309ccb148      email      Monday              18:33                  A     1      False\n",
      "6     12  01fb228a-9d28-4cde-932c-59b933fa763b      email      Sunday                NaN                  A     7       True\n",
      "7     14  02405d93-9c33-4034-894a-b9523956a3ad    twitter     Tuesday                NaN                  A     2       True\n",
      "8     15  0254b59f-082d-4a5a-913d-4f2bba267768     google      Friday                NaN                  A     5       True\n",
      "9     18  041deef8-b242-4114-afd0-e584784ec9f0     google   Wednesday              10:54                  A     3      False \n",
      "\n",
      "   index                               user_id utm_source         day ad_click_timestamp experimental_group day_nr  is_click\n",
      "0      1  009abb94-5e14-4b6c-bb1c-4f4df7aa7557   facebook      Sunday                NaN                  B     7       True\n",
      "1      3  011adc64-0f44-4fd9-a0bb-f1506d2ad439     google     Tuesday                NaN                  B     2       True\n",
      "2      4  012137e6-7ae7-4649-af68-205b4702169c   facebook      Sunday                NaN                  B     7       True\n",
      "3      9  01a210c3-fde0-4e6f-8efd-4f0e38730ae6      email     Tuesday              15:21                  B     2      False\n",
      "4     10  01adb2e7-f711-4ae4-a7c6-29f48457eea1     google   Wednesday                NaN                  B     3       True\n",
      "5     11  01ae0361-7d17-4760-a2c8-23977a46fb78   facebook    Thursday               7:11                  B     4      False\n",
      "6     13  023598b8-09e2-40ed-9c90-34d607094ff9     google     Tuesday                NaN                  B     2       True\n",
      "7     16  02d8dba0-5d12-4983-a407-63fab9757d94     google   Wednesday                NaN                  B     3       True\n",
      "8     17  0378e9e1-0ad8-4a26-8190-ebb3370239d3   facebook      Monday                NaN                  B     1       True\n",
      "9     19  0429608e-61f3-4df0-ba45-3633029a14db     google      Sunday                NaN                  B     7       True\n"
     ]
    }
   ],
   "source": [
    "a_clicks = ad_clicks[ad_clicks.experimental_group == 'A'].reset_index()\n",
    "b_clicks = ad_clicks[ad_clicks.experimental_group == \"B\"].reset_index()\n",
    "print(a_clicks.head(10), '\\n')\n",
    "print(b_clicks.head(10))"
   ]
  },
  {
   "cell_type": "markdown",
   "metadata": {},
   "source": [
    "**10. Group the a_clicks and b_clicks by 'day' and 'is_click' and count the total users who clicked or not the add per day. Rename 'user_id' column as 'count_clicks'**"
   ]
  },
  {
   "cell_type": "code",
   "execution_count": 44,
   "metadata": {},
   "outputs": [
    {
     "name": "stdout",
     "output_type": "stream",
     "text": [
      "         day  is_click  count_clicks\n",
      "0     Friday     False            51\n",
      "1     Friday      True            77\n",
      "2     Monday     False            43\n",
      "3     Monday      True            70\n",
      "4   Saturday     False            45\n",
      "5   Saturday      True            73\n",
      "6     Sunday     False            43\n",
      "7     Sunday      True            66\n",
      "8   Thursday     False            47\n",
      "9   Thursday      True            69 \n",
      "\n",
      "         day  is_click  count_clicks\n",
      "0     Friday     False            38\n",
      "1     Friday      True            90\n",
      "2     Monday     False            32\n",
      "3     Monday      True            81\n",
      "4   Saturday     False            42\n",
      "5   Saturday      True            76\n",
      "6     Sunday     False            34\n",
      "7     Sunday      True            75\n",
      "8   Thursday     False            29\n",
      "9   Thursday      True            87\n"
     ]
    }
   ],
   "source": [
    "a_clicks_grouped = a_clicks.groupby(['day', 'is_click']).user_id.count().reset_index()\n",
    "b_clicks_grouped = b_clicks.groupby(['day', 'is_click']).user_id.count().reset_index()\n",
    "\n",
    "a_clicks_grouped.rename(columns= {'user_id':'count_clicks'},inplace=True)\n",
    "b_clicks_grouped.rename(columns= {'user_id':'count_clicks'},inplace=True)\n",
    "\n",
    "print(a_clicks_grouped.head(10), '\\n')\n",
    "print(b_clicks_grouped.head(10))"
   ]
  },
  {
   "cell_type": "markdown",
   "metadata": {},
   "source": [
    "**11. Pivot both tables from above with column 'is_click' as columns and 'count_clicks' as values.**"
   ]
  },
  {
   "cell_type": "code",
   "execution_count": 22,
   "metadata": {},
   "outputs": [],
   "source": [
    "a_clicks_pivot = a_clicks_grouped.pivot(columns = 'is_click', values ='count_clicks', index ='day').reset_index()\n",
    "b_clicks_pivot = b_clicks_grouped.pivot(columns = 'is_click', values ='count_clicks', index ='day').reset_index()"
   ]
  },
  {
   "cell_type": "markdown",
   "metadata": {},
   "source": [
    "**12. Calculate the percentage of people who clicked the ad from total volume of people from that day.**"
   ]
  },
  {
   "cell_type": "code",
   "execution_count": 31,
   "metadata": {},
   "outputs": [
    {
     "name": "stdout",
     "output_type": "stream",
     "text": [
      "is_click         day  False  True  percentage_clicked\n",
      "0             Friday     51    77                60.0\n",
      "1             Monday     43    70                62.0\n",
      "2           Saturday     45    73                62.0\n",
      "3             Sunday     43    66                61.0\n",
      "4           Thursday     47    69                59.0\n",
      "5            Tuesday     43    76                64.0\n",
      "6          Wednesday     38    86                69.0 \n",
      "\n",
      "is_click         day  False  True  percentage_clicked\n",
      "0             Friday     38    90                70.0\n",
      "1             Monday     32    81                72.0\n",
      "2           Saturday     42    76                64.0\n",
      "3             Sunday     34    75                69.0\n",
      "4           Thursday     29    87                75.0\n",
      "5            Tuesday     45    74                62.0\n",
      "6          Wednesday     35    89                72.0\n"
     ]
    }
   ],
   "source": [
    "a_clicks_pivot['percentage_clicked'] = round(a_clicks_pivot[True]/(a_clicks_pivot[False] + a_clicks_pivot[True])*100)\n",
    "b_clicks_pivot['percentage_clicked'] = round(b_clicks_pivot[True]/(b_clicks_pivot[False] + b_clicks_pivot[True])*100)\n",
    "\n",
    "#Check final result\n",
    "print(a_clicks_pivot,\"\\n\")\n",
    "print(b_clicks_pivot)"
   ]
  },
  {
   "cell_type": "markdown",
   "metadata": {},
   "source": [
    "**13. Export pivoted tables in csv files locally**"
   ]
  },
  {
   "cell_type": "code",
   "execution_count": 35,
   "metadata": {},
   "outputs": [],
   "source": [
    "a_clicks_pivot.to_csv(os.curdir +r\"\\a_clicks_by_day_final.csv\", index=None)\n",
    "b_clicks_pivot.to_csv(os.curdir + r\"\\b_clicks_by_day_final.csv\", index=None)"
   ]
  }
 ],
 "metadata": {
  "kernelspec": {
   "display_name": "Python 3 (ipykernel)",
   "language": "python",
   "name": "python3"
  },
  "language_info": {
   "codemirror_mode": {
    "name": "ipython",
    "version": 3
   },
   "file_extension": ".py",
   "mimetype": "text/x-python",
   "name": "python",
   "nbconvert_exporter": "python",
   "pygments_lexer": "ipython3",
   "version": "3.11.4"
  }
 },
 "nbformat": 4,
 "nbformat_minor": 4
}
